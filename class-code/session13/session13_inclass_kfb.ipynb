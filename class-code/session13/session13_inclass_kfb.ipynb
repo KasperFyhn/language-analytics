{
 "cells": [
  {
   "cell_type": "markdown",
   "metadata": {},
   "source": [
    "# Session 13 - Measuring environmental impact\n",
    "\n",
    "In this session, we're going to look at one particular way that we can measure the impact of our code on the world around us. In particular, we're going to be looking at how we can approximate the *environmental impact* of our cultural data science footprint.\n",
    "\n",
    "To do this, we're going to use the open-source software package *CodeCarbon*. You can find more information at the following links:\n",
    "\n",
    "- CodeCarbon Website: [https://codecarbon.io/](https://codecarbon.io/)\n",
    "- GitHub Repo: [https://mlco2.github.io/codecarbon/](https://mlco2.github.io/codecarbon/)\n",
    "- Documentation: [https://mlco2.github.io/codecarbon/](https://mlco2.github.io/codecarbon/)\n",
    "\n",
    "We will do comparison of methods for Sentiment analysis, namely logistic regression, a simple neural network and a HuggingFace transformer."
   ]
  },
  {
   "cell_type": "markdown",
   "metadata": {},
   "source": [
    "## Method 1 - Creating a tracker object"
   ]
  },
  {
   "cell_type": "code",
   "execution_count": 1,
   "metadata": {
    "ExecuteTime": {
     "end_time": "2025-05-09T09:23:58.069191Z",
     "start_time": "2025-05-09T09:23:31.390857Z"
    }
   },
   "outputs": [
    {
     "name": "stderr",
     "output_type": "stream",
     "text": [
      "[codecarbon WARNING @ 11:26:56] Multiple instances of codecarbon are allowed to run at the same time.\n",
      "[codecarbon INFO @ 11:26:56] [setup] RAM Tracking...\n",
      "[codecarbon INFO @ 11:26:56] [setup] CPU Tracking...\n",
      "[codecarbon WARNING @ 11:26:58] No CPU tracking mode found. Falling back on estimation based on TDP for CPU. \n",
      " Linux OS detected: Please ensure RAPL files exist at /sys/class/powercap/intel-rapl/subsystem to measure CPU\n",
      "\n",
      "[codecarbon INFO @ 11:26:58] CPU Model on constant consumption mode: AMD EPYC 7702 64-Core Processor\n",
      "[codecarbon WARNING @ 11:26:58] No CPU tracking mode found. Falling back on CPU load mode.\n",
      "[codecarbon INFO @ 11:26:58] [setup] GPU Tracking...\n",
      "[codecarbon INFO @ 11:26:58] No GPU found.\n",
      "[codecarbon INFO @ 11:26:58] The below tracking methods have been set up:\n",
      "                RAM Tracking Method: RAM power estimation model\n",
      "                CPU Tracking Method: cpu_load\n",
      "                GPU Tracking Method: Unspecified\n",
      "            \n",
      "[codecarbon INFO @ 11:26:58] >>> Tracker's metadata:\n",
      "[codecarbon INFO @ 11:26:58]   Platform system: Linux-5.15.0-131-generic-x86_64-with-glibc2.39\n",
      "[codecarbon INFO @ 11:26:58]   Python version: 3.12.3\n",
      "[codecarbon INFO @ 11:26:58]   CodeCarbon version: 3.0.1\n",
      "[codecarbon INFO @ 11:26:58]   Available RAM : 1007.294 GB\n",
      "[codecarbon INFO @ 11:26:58]   CPU count: 256 thread(s) in 2 physical CPU(s)\n",
      "[codecarbon INFO @ 11:26:58]   CPU model: AMD EPYC 7702 64-Core Processor\n",
      "[codecarbon INFO @ 11:26:58]   GPU count: None\n",
      "[codecarbon INFO @ 11:26:58]   GPU model: None\n",
      "[codecarbon INFO @ 11:27:01] Emissions data (if any) will be saved to file /work/class-code/session13/emissions.csv\n",
      "[codecarbon INFO @ 11:27:16] Energy consumed for RAM : 0.000302 kWh. RAM Power : 70.0 W\n",
      "[codecarbon INFO @ 11:27:17] Delta energy consumed for CPU with cpu_load : 0.000173 kWh, power : 40.0 W\n",
      "[codecarbon INFO @ 11:27:17] Energy consumed for All CPU : 0.000173 kWh\n",
      "[codecarbon INFO @ 11:27:17] 0.000475 kWh of electricity used since the beginning.\n",
      "[codecarbon INFO @ 11:27:31] Energy consumed for RAM : 0.000581 kWh. RAM Power : 70.0 W\n",
      "[codecarbon INFO @ 11:27:32] Delta energy consumed for CPU with cpu_load : 0.000160 kWh, power : 40.0 W\n",
      "[codecarbon INFO @ 11:27:32] Energy consumed for All CPU : 0.000333 kWh\n",
      "[codecarbon INFO @ 11:27:32] 0.000914 kWh of electricity used since the beginning.\n",
      "[codecarbon INFO @ 11:27:35] Energy consumed for RAM : 0.000646 kWh. RAM Power : 70.0 W\n",
      "[codecarbon INFO @ 11:27:36] Delta energy consumed for CPU with cpu_load : 0.000037 kWh, power : 40.0 W\n",
      "[codecarbon INFO @ 11:27:36] Energy consumed for All CPU : 0.000370 kWh\n",
      "[codecarbon INFO @ 11:27:36] 0.001016 kWh of electricity used since the beginning.\n"
     ]
    },
    {
     "data": {
      "text/plain": [
       "0.0001541341602596955"
      ]
     },
     "execution_count": 1,
     "metadata": {},
     "output_type": "execute_result"
    }
   ],
   "source": [
    "from codecarbon import EmissionsTracker\n",
    "\n",
    "tracker = EmissionsTracker(project_name=\"sum_tracker_object\")\n",
    "tracker.start()\n",
    "sum(1 for _ in range(1_000_000_000)) # run code\n",
    "tracker.stop()"
   ]
  },
  {
   "cell_type": "markdown",
   "metadata": {},
   "source": [
    "## Method 2 - Context manager"
   ]
  },
  {
   "cell_type": "code",
   "execution_count": 3,
   "metadata": {
    "ExecuteTime": {
     "end_time": "2025-05-09T09:25:24.531765Z",
     "start_time": "2025-05-09T09:24:57.259763Z"
    }
   },
   "outputs": [
    {
     "name": "stderr",
     "output_type": "stream",
     "text": [
      "[codecarbon INFO @ 11:24:57] [setup] RAM Tracking...\n",
      "[codecarbon INFO @ 11:24:57] [setup] CPU Tracking...\n",
      "[codecarbon WARNING @ 11:24:57] No CPU tracking mode found. Falling back on CPU constant mode. \n",
      " Linux OS detected: Please ensure RAPL files exist at \\sys\\class\\powercap\\intel-rapl to measure CPU\n",
      "\n",
      "[codecarbon WARNING @ 11:24:58] We saw that you have a AMD Ryzen 7 PRO 6850U with Radeon Graphics but we don't know it. Please contact us.\n",
      "[codecarbon INFO @ 11:24:58] CPU Model on constant consumption mode: AMD Ryzen 7 PRO 6850U with Radeon Graphics\n",
      "[codecarbon INFO @ 11:24:58] [setup] GPU Tracking...\n",
      "[codecarbon INFO @ 11:24:58] No GPU found.\n",
      "[codecarbon INFO @ 11:24:58] >>> Tracker's metadata:\n",
      "[codecarbon INFO @ 11:24:58]   Platform system: Linux-6.8.0-59-generic-x86_64-with-glibc2.39\n",
      "[codecarbon INFO @ 11:24:58]   Python version: 3.12.3\n",
      "[codecarbon INFO @ 11:24:58]   CodeCarbon version: 2.8.3\n",
      "[codecarbon INFO @ 11:24:58]   Available RAM : 14.400 GB\n",
      "[codecarbon INFO @ 11:24:58]   CPU count: 16\n",
      "[codecarbon INFO @ 11:24:58]   CPU model: AMD Ryzen 7 PRO 6850U with Radeon Graphics\n",
      "[codecarbon INFO @ 11:24:58]   GPU count: None\n",
      "[codecarbon INFO @ 11:24:58]   GPU model: None\n",
      "[codecarbon INFO @ 11:25:01] Saving emissions data to file /home/au479461/PycharmProjects/cds-language/nbs/emissions.csv\n",
      "[codecarbon INFO @ 11:25:16] Energy consumed for RAM : 0.000023 kWh. RAM Power : 5.399927616119386 W\n",
      "[codecarbon INFO @ 11:25:16] Energy consumed for all CPUs : 0.000178 kWh. Total CPU Power : 42.5 W\n",
      "[codecarbon INFO @ 11:25:16] 0.000200 kWh of electricity used since the beginning.\n",
      "[codecarbon INFO @ 11:25:24] Energy consumed for RAM : 0.000034 kWh. RAM Power : 5.399927616119386 W\n",
      "[codecarbon INFO @ 11:25:24] Energy consumed for all CPUs : 0.000267 kWh. Total CPU Power : 42.5 W\n",
      "[codecarbon INFO @ 11:25:24] 0.000301 kWh of electricity used since the beginning.\n"
     ]
    }
   ],
   "source": [
    "with EmissionsTracker(project_name=\"sum_context_manager\") as tracker:\n",
    "    sum(1 for _ in range(1_000_000_000)) # run code"
   ]
  },
  {
   "cell_type": "markdown",
   "metadata": {},
   "source": [
    "## Method 3 - A Python decoractor\n",
    "\n"
   ]
  },
  {
   "cell_type": "code",
   "execution_count": 4,
   "metadata": {
    "ExecuteTime": {
     "end_time": "2025-05-09T09:25:24.539118Z",
     "start_time": "2025-05-09T09:25:24.536409Z"
    }
   },
   "outputs": [],
   "source": [
    "from codecarbon import track_emissions\n",
    "\n",
    "@track_emissions(project_name=\"sum_decorator\")\n",
    "def foo():\n",
    "    sum(1 for _ in range(1_000_000_000)) # run code"
   ]
  },
  {
   "cell_type": "code",
   "execution_count": 5,
   "metadata": {
    "ExecuteTime": {
     "end_time": "2025-05-09T09:25:52.481284Z",
     "start_time": "2025-05-09T09:25:24.587057Z"
    }
   },
   "outputs": [
    {
     "name": "stderr",
     "output_type": "stream",
     "text": [
      "[codecarbon INFO @ 11:25:24] [setup] RAM Tracking...\n",
      "[codecarbon INFO @ 11:25:24] [setup] CPU Tracking...\n",
      "[codecarbon WARNING @ 11:25:24] No CPU tracking mode found. Falling back on CPU constant mode. \n",
      " Linux OS detected: Please ensure RAPL files exist at \\sys\\class\\powercap\\intel-rapl to measure CPU\n",
      "\n",
      "[codecarbon WARNING @ 11:25:25] We saw that you have a AMD Ryzen 7 PRO 6850U with Radeon Graphics but we don't know it. Please contact us.\n",
      "[codecarbon INFO @ 11:25:25] CPU Model on constant consumption mode: AMD Ryzen 7 PRO 6850U with Radeon Graphics\n",
      "[codecarbon INFO @ 11:25:25] [setup] GPU Tracking...\n",
      "[codecarbon INFO @ 11:25:25] No GPU found.\n",
      "[codecarbon INFO @ 11:25:25] >>> Tracker's metadata:\n",
      "[codecarbon INFO @ 11:25:25]   Platform system: Linux-6.8.0-59-generic-x86_64-with-glibc2.39\n",
      "[codecarbon INFO @ 11:25:25]   Python version: 3.12.3\n",
      "[codecarbon INFO @ 11:25:25]   CodeCarbon version: 2.8.3\n",
      "[codecarbon INFO @ 11:25:25]   Available RAM : 14.400 GB\n",
      "[codecarbon INFO @ 11:25:25]   CPU count: 16\n",
      "[codecarbon INFO @ 11:25:25]   CPU model: AMD Ryzen 7 PRO 6850U with Radeon Graphics\n",
      "[codecarbon INFO @ 11:25:25]   GPU count: None\n",
      "[codecarbon INFO @ 11:25:25]   GPU model: None\n",
      "[codecarbon INFO @ 11:25:29] Saving emissions data to file /home/au479461/PycharmProjects/cds-language/nbs/emissions.csv\n",
      "[codecarbon INFO @ 11:25:44] Energy consumed for RAM : 0.000023 kWh. RAM Power : 5.399927616119386 W\n",
      "[codecarbon INFO @ 11:25:44] Energy consumed for all CPUs : 0.000178 kWh. Total CPU Power : 42.5 W\n",
      "[codecarbon INFO @ 11:25:44] 0.000201 kWh of electricity used since the beginning.\n",
      "[codecarbon INFO @ 11:25:52] \n",
      "Graceful stopping: collecting and writing information.\n",
      "Please wait a few seconds...\n",
      "[codecarbon INFO @ 11:25:52] Energy consumed for RAM : 0.000035 kWh. RAM Power : 5.399927616119386 W\n",
      "[codecarbon INFO @ 11:25:52] Energy consumed for all CPUs : 0.000276 kWh. Total CPU Power : 42.5 W\n",
      "[codecarbon INFO @ 11:25:52] 0.000311 kWh of electricity used since the beginning.\n",
      "[codecarbon INFO @ 11:25:52] Done!\n",
      "\n"
     ]
    }
   ],
   "source": [
    "foo()"
   ]
  },
  {
   "cell_type": "markdown",
   "metadata": {},
   "source": [
    "## Inspecting output\n",
    "Codecarbon creates a default file which we can inspect."
   ]
  },
  {
   "cell_type": "code",
   "execution_count": 2,
   "metadata": {
    "ExecuteTime": {
     "end_time": "2025-05-09T09:45:48.383959Z",
     "start_time": "2025-05-09T09:45:48.326432Z"
    }
   },
   "outputs": [
    {
     "data": {
      "text/html": [
       "<div>\n",
       "<style scoped>\n",
       "    .dataframe tbody tr th:only-of-type {\n",
       "        vertical-align: middle;\n",
       "    }\n",
       "\n",
       "    .dataframe tbody tr th {\n",
       "        vertical-align: top;\n",
       "    }\n",
       "\n",
       "    .dataframe thead th {\n",
       "        text-align: right;\n",
       "    }\n",
       "</style>\n",
       "<table border=\"1\" class=\"dataframe\">\n",
       "  <thead>\n",
       "    <tr style=\"text-align: right;\">\n",
       "      <th></th>\n",
       "      <th>timestamp</th>\n",
       "      <th>project_name</th>\n",
       "      <th>run_id</th>\n",
       "      <th>experiment_id</th>\n",
       "      <th>duration</th>\n",
       "      <th>emissions</th>\n",
       "      <th>emissions_rate</th>\n",
       "      <th>cpu_power</th>\n",
       "      <th>gpu_power</th>\n",
       "      <th>ram_power</th>\n",
       "      <th>...</th>\n",
       "      <th>cpu_count</th>\n",
       "      <th>cpu_model</th>\n",
       "      <th>gpu_count</th>\n",
       "      <th>gpu_model</th>\n",
       "      <th>longitude</th>\n",
       "      <th>latitude</th>\n",
       "      <th>ram_total_size</th>\n",
       "      <th>tracking_mode</th>\n",
       "      <th>on_cloud</th>\n",
       "      <th>pue</th>\n",
       "    </tr>\n",
       "  </thead>\n",
       "  <tbody>\n",
       "    <tr>\n",
       "      <th>0</th>\n",
       "      <td>2025-05-12T11:27:36</td>\n",
       "      <td>sum_tracker_object</td>\n",
       "      <td>9c1481d6-1b43-4a91-8900-8b8c4f7e48e0</td>\n",
       "      <td>5b0fa12a-3dd7-45bb-9766-cc326314d9f1</td>\n",
       "      <td>35.016761</td>\n",
       "      <td>0.000154</td>\n",
       "      <td>0.000004</td>\n",
       "      <td>40.0</td>\n",
       "      <td>0.0</td>\n",
       "      <td>70.0</td>\n",
       "      <td>...</td>\n",
       "      <td>256</td>\n",
       "      <td>AMD EPYC 7702 64-Core Processor</td>\n",
       "      <td>NaN</td>\n",
       "      <td>NaN</td>\n",
       "      <td>9.9906</td>\n",
       "      <td>57.0288</td>\n",
       "      <td>1007.293625</td>\n",
       "      <td>machine</td>\n",
       "      <td>N</td>\n",
       "      <td>1.0</td>\n",
       "    </tr>\n",
       "  </tbody>\n",
       "</table>\n",
       "<p>1 rows × 32 columns</p>\n",
       "</div>"
      ],
      "text/plain": [
       "             timestamp        project_name  \\\n",
       "0  2025-05-12T11:27:36  sum_tracker_object   \n",
       "\n",
       "                                 run_id                         experiment_id  \\\n",
       "0  9c1481d6-1b43-4a91-8900-8b8c4f7e48e0  5b0fa12a-3dd7-45bb-9766-cc326314d9f1   \n",
       "\n",
       "    duration  emissions  emissions_rate  cpu_power  gpu_power  ram_power  ...  \\\n",
       "0  35.016761   0.000154        0.000004       40.0        0.0       70.0  ...   \n",
       "\n",
       "   cpu_count                        cpu_model  gpu_count  gpu_model longitude  \\\n",
       "0        256  AMD EPYC 7702 64-Core Processor        NaN        NaN    9.9906   \n",
       "\n",
       "  latitude ram_total_size  tracking_mode  on_cloud  pue  \n",
       "0  57.0288    1007.293625        machine         N  1.0  \n",
       "\n",
       "[1 rows x 32 columns]"
      ]
     },
     "execution_count": 2,
     "metadata": {},
     "output_type": "execute_result"
    }
   ],
   "source": [
    "import pandas as pd\n",
    "pd.read_csv(\"emissions.csv\")"
   ]
  },
  {
   "cell_type": "markdown",
   "metadata": {},
   "source": [
    "## Exercise\n",
    "Compare different methods of sentiment analysis of IMDB movie reviews.\n",
    "1. Locate and load the IMDB dataset on UCloud.\n",
    "2. Train and test a logistic regression classifier. See notebook from class 4.\n",
    "3. Train and test a neural network classifier. See notebook from class 5.\n",
    "4. Test a HuggingFace transformer model for sentiment analysis. See notebook from class 11. NOTE: The input can be a bit too long for the transformer. You can truncate input like this: `pipeline(..., truncation=True)`.\n",
    "\n",
    "Questions:\n",
    "- What is the training cost of the two more \"traditional\" classifiers?\n",
    "- What is the relative cost of inference between the classifiers?\n",
    "- What is the trade-off between cost and performance?\n",
    "\n",
    "NOTE: CodeCarbon offers more functionality than shown above, including splitting into subtasks and directing output to specific files. Feel free to experiment."
   ]
  },
  {
   "cell_type": "code",
   "execution_count": null,
   "metadata": {},
   "outputs": [],
   "source": []
  },
  {
   "cell_type": "code",
   "execution_count": 3,
   "metadata": {
    "ExecuteTime": {
     "end_time": "2025-05-09T09:27:42.266933Z",
     "start_time": "2025-05-09T09:27:41.614084Z"
    }
   },
   "outputs": [],
   "source": [
    "# track data loading\n",
    "\n",
    "import pandas as pd\n",
    "\n",
    "data = pd.read_csv(\"/work/data/imdb/IMDB Dataset.csv\")"
   ]
  },
  {
   "cell_type": "code",
   "execution_count": 4,
   "metadata": {},
   "outputs": [
    {
     "data": {
      "text/html": [
       "<div>\n",
       "<style scoped>\n",
       "    .dataframe tbody tr th:only-of-type {\n",
       "        vertical-align: middle;\n",
       "    }\n",
       "\n",
       "    .dataframe tbody tr th {\n",
       "        vertical-align: top;\n",
       "    }\n",
       "\n",
       "    .dataframe thead th {\n",
       "        text-align: right;\n",
       "    }\n",
       "</style>\n",
       "<table border=\"1\" class=\"dataframe\">\n",
       "  <thead>\n",
       "    <tr style=\"text-align: right;\">\n",
       "      <th></th>\n",
       "      <th>review</th>\n",
       "      <th>sentiment</th>\n",
       "    </tr>\n",
       "  </thead>\n",
       "  <tbody>\n",
       "    <tr>\n",
       "      <th>0</th>\n",
       "      <td>One of the other reviewers has mentioned that ...</td>\n",
       "      <td>positive</td>\n",
       "    </tr>\n",
       "    <tr>\n",
       "      <th>1</th>\n",
       "      <td>A wonderful little production. &lt;br /&gt;&lt;br /&gt;The...</td>\n",
       "      <td>positive</td>\n",
       "    </tr>\n",
       "    <tr>\n",
       "      <th>2</th>\n",
       "      <td>I thought this was a wonderful way to spend ti...</td>\n",
       "      <td>positive</td>\n",
       "    </tr>\n",
       "    <tr>\n",
       "      <th>3</th>\n",
       "      <td>Basically there's a family where a little boy ...</td>\n",
       "      <td>negative</td>\n",
       "    </tr>\n",
       "    <tr>\n",
       "      <th>4</th>\n",
       "      <td>Petter Mattei's \"Love in the Time of Money\" is...</td>\n",
       "      <td>positive</td>\n",
       "    </tr>\n",
       "  </tbody>\n",
       "</table>\n",
       "</div>"
      ],
      "text/plain": [
       "                                              review sentiment\n",
       "0  One of the other reviewers has mentioned that ...  positive\n",
       "1  A wonderful little production. <br /><br />The...  positive\n",
       "2  I thought this was a wonderful way to spend ti...  positive\n",
       "3  Basically there's a family where a little boy ...  negative\n",
       "4  Petter Mattei's \"Love in the Time of Money\" is...  positive"
      ]
     },
     "execution_count": 4,
     "metadata": {},
     "output_type": "execute_result"
    }
   ],
   "source": [
    "data.head()"
   ]
  },
  {
   "cell_type": "code",
   "execution_count": null,
   "metadata": {},
   "outputs": [],
   "source": [
    "# track training and inference of logistic regression, possibly with different configurations"
   ]
  },
  {
   "cell_type": "code",
   "execution_count": null,
   "metadata": {},
   "outputs": [],
   "source": [
    "# track training and inference of a neural network, possibly with different configurations"
   ]
  },
  {
   "cell_type": "code",
   "execution_count": null,
   "metadata": {},
   "outputs": [],
   "source": [
    "# track inference of a transformer model for sentiment analysis, possibly also alternative models"
   ]
  },
  {
   "cell_type": "code",
   "execution_count": 11,
   "metadata": {
    "ExecuteTime": {
     "end_time": "2025-05-12T08:53:31.670206Z",
     "start_time": "2025-05-12T08:53:31.661086Z"
    }
   },
   "outputs": [],
   "source": [
    "# Bonus question if you finish quickly: What about generative models? You can start with generative models from HuggingFace (GPT-2, T5, etc.). You can also try to set up small LLMs like llama3 via llama_cpp. You can also use ollama, but it is less clear whether codecarbon catches it all when it via API and not directly in Python code."
   ]
  },
  {
   "cell_type": "code",
   "execution_count": null,
   "metadata": {},
   "outputs": [],
   "source": []
  }
 ],
 "metadata": {
  "kernelspec": {
   "display_name": "Python 3",
   "language": "python",
   "name": "python3"
  },
  "language_info": {
   "codemirror_mode": {
    "name": "ipython",
    "version": 3
   },
   "file_extension": ".py",
   "mimetype": "text/x-python",
   "name": "python",
   "nbconvert_exporter": "python",
   "pygments_lexer": "ipython3",
   "version": "3.12.3"
  }
 },
 "nbformat": 4,
 "nbformat_minor": 2
}
