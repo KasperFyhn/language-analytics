{
 "cells": [
  {
   "cell_type": "markdown",
   "metadata": {},
   "source": [
    "# Analysing text with ```spaCy```"
   ]
  },
  {
   "cell_type": "markdown",
   "metadata": {},
   "source": [
    "There are a number of different NLP frameworks that you're likely to encounter. The most popular and widely-used of these are:\n",
    "\n",
    "- ```NLTK``` (Natural Language Toolkit, old-school)\n",
    "- ```UDPipe``` (Neural network based, fast and light, but not super accurate)\n",
    "- ```CoreNLP``` and ```stanza``` (Created by the team at Stanford; academically robust)\n",
    "- ```spaCy``` production-ready, well-documented, state-of-the-art\n",
    "\n",
    "We'll be working with ```spaCy``` in this module, primarily because it's easy and intuitive, and also scales well. Even with an off-the-shelf solution from SpaCy, we can get quite a bit. See [SpaCy documentation about linguistic features](https://spacy.io/usage/linguistic-features) for more details.\n",
    "\n",
    "First thing we need to do is install ```spaCy``` and the language model that we want to use.\n",
    "\n",
    "From the command line, you should first make sure to run the setup script to install requirements with `./setup.sh`. Or run these commands yourself:\n",
    "```bash\n",
    "pip install spacy pandas\n",
    "python -m spacy download en_core_web_md\n",
    "```"
   ]
  },
  {
   "cell_type": "markdown",
   "metadata": {},
   "source": [
    "## Initializing ```spaCy```"
   ]
  },
  {
   "cell_type": "markdown",
   "metadata": {},
   "source": [
    "The first thing we need to do is import ```spaCy``` __and__ the language model that we want to use.\n",
    "\n",
    "Note that, if you want to use different languages you want to use different language models."
   ]
  },
  {
   "cell_type": "code",
   "execution_count": 2,
   "metadata": {
    "ExecuteTime": {
     "end_time": "2025-02-24T09:43:34.525469Z",
     "start_time": "2025-02-24T09:43:33.220960Z"
    }
   },
   "outputs": [],
   "source": [
    "# create a spacy NLP class\n",
    "import spacy\n",
    "nlp = spacy.load(\"en_core_web_md\")"
   ]
  },
  {
   "cell_type": "markdown",
   "metadata": {},
   "source": [
    "With the model now loaded, we can begin to do some very simple NLP tasks.\n",
    "\n",
    "Here, we create a spaCy object and assign it to the variable ```nlp```. This is the NLP pipeline that will do all our heavy lifting, using the trained model we've specified.\n",
    "\n",
    "Below, you can see what the pipeline does with a bit of sample text. Passing text to the nlp object gives us access to a bunch of properties, including tokens (words), parts of speech, named entities, and so on. Here's we two of them, tokens and entities. These objects, in turn, have certain methods attached to them. A full outline of available methods can be found in the spaCy docs.\n",
    "\n",
    "In this case, for all token objects, let's return the token itself (```token.text```); its part-of-speech tag (```token.pos_```); and the grammatical dependency relations between the tokens (```token.dep_```).\n"
   ]
  },
  {
   "cell_type": "code",
   "execution_count": 3,
   "metadata": {
    "ExecuteTime": {
     "end_time": "2025-02-24T09:43:34.562690Z",
     "start_time": "2025-02-24T09:43:34.559974Z"
    }
   },
   "outputs": [],
   "source": [
    "# a single sentence example\n",
    "input_string = \"My name is Ross and I have family in New York City.\""
   ]
  },
  {
   "cell_type": "code",
   "execution_count": 4,
   "metadata": {
    "ExecuteTime": {
     "end_time": "2025-02-24T09:43:34.642084Z",
     "start_time": "2025-02-24T09:43:34.617064Z"
    }
   },
   "outputs": [],
   "source": [
    "# create a new Doc object\n",
    "doc = nlp(input_string)"
   ]
  },
  {
   "cell_type": "code",
   "execution_count": 5,
   "metadata": {
    "ExecuteTime": {
     "end_time": "2025-02-24T09:43:34.679467Z",
     "start_time": "2025-02-24T09:43:34.673615Z"
    }
   },
   "outputs": [
    {
     "name": "stdout",
     "output_type": "stream",
     "text": [
      "My name is Ross and I have family in New York City.\n"
     ]
    }
   ],
   "source": [
    "print(doc)"
   ]
  },
  {
   "cell_type": "markdown",
   "metadata": {},
   "source": [
    "## Tokens"
   ]
  },
  {
   "cell_type": "code",
   "execution_count": 6,
   "metadata": {
    "ExecuteTime": {
     "end_time": "2025-02-24T09:43:34.734698Z",
     "start_time": "2025-02-24T09:43:34.731254Z"
    }
   },
   "outputs": [
    {
     "name": "stdout",
     "output_type": "stream",
     "text": [
      "My\n",
      "name\n",
      "is\n",
      "Ross\n",
      "and\n",
      "I\n",
      "have\n",
      "family\n",
      "in\n",
      "New\n",
      "York\n",
      "City\n",
      ".\n"
     ]
    }
   ],
   "source": [
    "# tokenizing text\n",
    "for token in doc:\n",
    "    print(token.text)"
   ]
  },
  {
   "cell_type": "markdown",
   "metadata": {},
   "source": [
    "## Index, text and POS-tag"
   ]
  },
  {
   "cell_type": "code",
   "execution_count": 7,
   "metadata": {
    "ExecuteTime": {
     "end_time": "2025-02-24T09:43:34.796222Z",
     "start_time": "2025-02-24T09:43:34.792843Z"
    }
   },
   "outputs": [
    {
     "name": "stdout",
     "output_type": "stream",
     "text": [
      "0 My PRON\n",
      "1 name NOUN\n",
      "2 is AUX\n",
      "3 Ross PROPN\n",
      "4 and CCONJ\n",
      "5 I PRON\n",
      "6 have VERB\n",
      "7 family NOUN\n",
      "8 in ADP\n",
      "9 New PROPN\n",
      "10 York PROPN\n",
      "11 City PROPN\n",
      "12 . PUNCT\n"
     ]
    }
   ],
   "source": [
    "# find parts-of-speech\n",
    "for token in doc:\n",
    "    print(token.i, token.text, token.pos_)"
   ]
  },
  {
   "cell_type": "markdown",
   "metadata": {},
   "source": [
    "## NER labels\n",
    "Extracting named entities from a ```spaCy``` doc requires an extra step, but nothing too challenging:"
   ]
  },
  {
   "cell_type": "code",
   "execution_count": 8,
   "metadata": {
    "ExecuteTime": {
     "end_time": "2025-02-24T09:43:34.859703Z",
     "start_time": "2025-02-24T09:43:34.856851Z"
    }
   },
   "outputs": [
    {
     "name": "stdout",
     "output_type": "stream",
     "text": [
      "Ross PERSON\n",
      "New York City GPE\n"
     ]
    }
   ],
   "source": [
    "# extracting NERs\n",
    "for ent in doc.ents:\n",
    "    print(ent.text, ent.label_)"
   ]
  },
  {
   "cell_type": "markdown",
   "metadata": {},
   "source": [
    "## Count distribution of linguistic features"
   ]
  },
  {
   "cell_type": "markdown",
   "metadata": {},
   "source": [
    "### Create doc object"
   ]
  },
  {
   "cell_type": "code",
   "execution_count": 32,
   "metadata": {
    "ExecuteTime": {
     "end_time": "2025-02-24T09:43:34.997824Z",
     "start_time": "2025-02-24T09:43:34.994960Z"
    }
   },
   "outputs": [],
   "source": [
    "# load a text file\n",
    "import os\n",
    "# corresponds to: ../../data/au-history/au-history.txt\n",
    "filename = os.path.join(\"..\", \"..\", \"data\", \"au-history\", \"au-history.txt\")\n",
    "with open(filename, \"r\", encoding=\"utf-8\") as file:\n",
    "    text = file.read()"
   ]
  },
  {
   "cell_type": "code",
   "execution_count": 33,
   "metadata": {
    "ExecuteTime": {
     "end_time": "2025-02-24T09:43:36.514242Z",
     "start_time": "2025-02-24T09:43:35.366767Z"
    }
   },
   "outputs": [
    {
     "data": {
      "text/plain": [
       "<spacy.pipeline.sentencizer.Sentencizer at 0x7f444ca54910>"
      ]
     },
     "execution_count": 33,
     "metadata": {},
     "output_type": "execute_result"
    }
   ],
   "source": [
    "nlp = spacy.load(\"en_core_web_md\")\n",
    "# The text has been formatted (manually) with double line breaks between headers and paragraphs.\n",
    "# One could also have done this with preprocessing if there had been many more documents!\n",
    "# With the double line breaks, we tell spacy to split sentences on those.\n",
    "nlp.add_pipe(\"sentencizer\", config={\"punct_chars\": [\"\\n\\n\"]}, before=\"parser\")"
   ]
  },
  {
   "cell_type": "code",
   "execution_count": 34,
   "metadata": {
    "ExecuteTime": {
     "end_time": "2025-02-24T09:43:36.672762Z",
     "start_time": "2025-02-24T09:43:36.559382Z"
    }
   },
   "outputs": [],
   "source": [
    "# create a doc object\n",
    "doc = nlp(text)"
   ]
  },
  {
   "cell_type": "code",
   "execution_count": 35,
   "metadata": {
    "ExecuteTime": {
     "end_time": "2025-02-24T09:43:36.685684Z",
     "start_time": "2025-02-24T09:43:36.681337Z"
    }
   },
   "outputs": [
    {
     "name": "stdout",
     "output_type": "stream",
     "text": [
      "History\n",
      "\n",
      "\n",
      "--------------------------------------------------\n",
      "AU will soon be celebrating its 100th anniversary. Since its foundation in 1928, the university has evolved from 78 students to approx. 38,000 students today.\n",
      "\n",
      "\n",
      "--------------------------------------------------\n",
      "1928\n",
      "Establishment\n",
      "After a long, persistent struggle and strong unity among the citizens of Aarhus, university education finally opened its doors.\n",
      "\n",
      "‘\n",
      "--------------------------------------------------\n",
      "University Teaching in Jutland’ started up with 78 students in rented premises, where they were taught French, English, German, Danish and introductory philosophy.\n",
      "\n",
      "\n",
      "--------------------------------------------------\n",
      "1933\n",
      "The first university building is inaugurated\n",
      "On 11 September 1933, King Christian X inaugurated the first university building. The building was designed by Kay Fisker and C. F. Møller, and its design became the template for the buildings in the University Park.\n",
      "text\n",
      "In 1934, the grass surrounding the building was grazed by 20 sheep. However, this solution turned out to be less than ideal, because the sheep ate the shoots on the young oak trees and distracted the students by bleating. But the last straw was when a ram attacked its own mirror image in one of the building’s large windows.\n",
      "\n",
      "\n",
      "--------------------------------------------------\n",
      "1935-1942\n",
      "The first faculties are established\n",
      "Five faculties were established in the period 1935-1942: Humanities, Medicine, Economics, Law (later Social Sciences) and Theology.\n",
      "\n",
      "\n",
      "--------------------------------------------------\n",
      "1944\n",
      "The new main building is erected – and occupied\n",
      "During the German occupation of Denmark, the occupying forces took over residence halls 4 and 5. The buildings were used as the headquarters of the Gestapo.\n",
      "\n",
      "\n",
      "--------------------------------------------------\n",
      "On 31 October 1944, to aid of the Danish resistance, the British air force carried out an air strike on the residence hall. The attack was successful, but tragically, nine workers and the woman who ran the university shop lost their lives during the attack.\n",
      "\n",
      "\n",
      "--------------------------------------------------\n",
      "1965-1977\n",
      "\n",
      "\n",
      "--------------------------------------------------\n",
      "Growth\n",
      "\n",
      "\n",
      "--------------------------------------------------\n",
      "The student population at AU grew from 5,000 in 1965 to 15,000 in 1977.\n",
      "\n",
      "\n",
      "--------------------------------------------------\n",
      "The photo is from a lecture at the Department of Clinical Medicine.\n",
      "\n",
      "\n",
      "--------------------------------------------------\n",
      "1992\n",
      "\n",
      "\n",
      "--------------------------------------------------\n",
      "The Faculty of Health Sciences is established\n",
      "In 1992, the Aarhus College of Dentistry merged with the Faculty of Medical Sciences and the faculty changed its name to the Faculty of Health Sciences.\n",
      "\n",
      "\n",
      "--------------------------------------------------\n",
      "1997\n",
      "First Nobel Prize\n",
      "Professor Jens Christian Skou received the Nobel Prize in Chemistry in 1997. In 2018, the Department of Biomedicine’s new state-of-the-art research facility is named after Jens Christian Skou.\n",
      "\n",
      "\n",
      "--------------------------------------------------\n",
      "2006-2007\n",
      "\n",
      "\n",
      "--------------------------------------------------\n",
      "New mergers\n",
      "\n",
      "\n",
      "--------------------------------------------------\n",
      "The Institute of Business and Technology in Herning (HIH), the Aarhus School of Business, the Danish Institute of Agricultural Sciences, the National Environmental Research Institute and the Danish University of Education (DPU) all merge with AU. The university now has about 34,000 students and 9,000 employees.\n",
      "\n",
      "\n",
      "--------------------------------------------------\n",
      "2010\n",
      "\n",
      "\n",
      "--------------------------------------------------\n",
      "Yet another Nobel Prize\n",
      "\n",
      "\n",
      "--------------------------------------------------\n",
      "Dale T. Mortensen, visiting professor at the Department of Economics and Business Economics, is awarded the Nobel Prize in Economic Sciences in 2010. The new Dale T. Mortensen Building, which houses the International Centre, is named after the Nobel Prize winner.\n",
      "\n",
      "\n",
      "--------------------------------------------------\n",
      "2011\n",
      "\n",
      "\n",
      "--------------------------------------------------\n",
      "From nine to four faculties\n",
      "\n",
      "\n",
      "--------------------------------------------------\n",
      "In 2011, AU undergoes a major reorganisation. The number of faculties is reduced from nine to four: Arts; Science and Technology; Health; and Business and Social Sciences.\n",
      "\n",
      "\n",
      "--------------------------------------------------\n",
      "2012\n",
      "\n",
      "\n",
      "--------------------------------------------------\n",
      "The Aarhus University School of Engineering merges with AU\n",
      "\n",
      "\n",
      "--------------------------------------------------\n",
      "After many years of close collaboration, the Aarhus University School of Engineering in Aarhus merged with AU, and is today housed in the Navitas building on the harbour.\n",
      "\n",
      "\n",
      "--------------------------------------------------\n",
      "2020\n",
      "\n",
      "\n",
      "--------------------------------------------------\n",
      "From four to five faculties\n",
      "\n",
      "\n",
      "--------------------------------------------------\n",
      "In January 2020, the Faculty of Science and Technology – AU’s largest – was split into two faculties: Technical Sciences and Natural Sciences.\n",
      "\n",
      "\n",
      "--------------------------------------------------\n",
      "2025\n",
      "\n",
      "\n",
      "--------------------------------------------------\n",
      "Aarhus University’s physical development\n",
      "\n",
      "\n",
      "--------------------------------------------------\n",
      "In 2019, the property management company Forskningsfondens Ejendomsselskab A/S acquired a large property (formerly the municipal hospital) adjacent to the University Park; AU is leasing these buildings from the property management company.\n",
      "\n",
      "\n",
      "--------------------------------------------------\n",
      "This expansion has given AU an opportunity to consolidate and strengthen a variety of degree programmes and research activities in downtown Aarhus, which will create a more closely integrated campus environment. The renovation of the property is underway, and is expected to be completed by 2025.\n",
      "--------------------------------------------------\n"
     ]
    }
   ],
   "source": [
    "for sent in doc.sents:\n",
    "    print(sent.text)\n",
    "    print('-' * 50)"
   ]
  },
  {
   "cell_type": "markdown",
   "metadata": {},
   "source": [
    "### Entities"
   ]
  },
  {
   "cell_type": "code",
   "execution_count": 36,
   "metadata": {
    "ExecuteTime": {
     "end_time": "2025-02-24T09:43:36.732045Z",
     "start_time": "2025-02-24T09:43:36.729334Z"
    }
   },
   "outputs": [],
   "source": [
    "# create empty list\n",
    "entities = []\n",
    "\n",
    "# add each entity to list\n",
    "for ent in doc.ents:\n",
    "    entities.append((ent.text, ent.label_))"
   ]
  },
  {
   "cell_type": "code",
   "execution_count": 37,
   "metadata": {},
   "outputs": [
    {
     "data": {
      "text/plain": [
       "[('100th', 'ORDINAL'),\n",
       " ('1928', 'DATE'),\n",
       " ('78', 'CARDINAL'),\n",
       " ('38,000', 'CARDINAL'),\n",
       " ('today', 'DATE'),\n",
       " ('1928', 'DATE'),\n",
       " ('Aarhus', 'NORP'),\n",
       " ('University Teaching in Jutland', 'ORG'),\n",
       " ('78', 'CARDINAL'),\n",
       " ('French', 'LANGUAGE')]"
      ]
     },
     "execution_count": 37,
     "metadata": {},
     "output_type": "execute_result"
    }
   ],
   "source": [
    "entities[:10]"
   ]
  },
  {
   "cell_type": "code",
   "execution_count": 38,
   "metadata": {
    "ExecuteTime": {
     "end_time": "2025-02-24T09:43:36.781932Z",
     "start_time": "2025-02-24T09:43:36.779448Z"
    }
   },
   "outputs": [
    {
     "name": "stdout",
     "output_type": "stream",
     "text": [
      "{('first', 'ORDINAL'), ('the Danish Institute of Agricultural Sciences', 'ORG'), ('20', 'CARDINAL'), ('2019', 'DATE'), ('the Aarhus University School of Engineering', 'ORG'), ('2025', 'DATE'), ('Jens Christian Skou', 'PERSON'), ('9,000', 'CARDINAL'), ('the International Centre', 'FAC'), ('Denmark', 'GPE'), ('1965-1977', 'DATE'), ('Gestapo', 'ORG'), ('nine', 'CARDINAL'), ('today', 'DATE'), ('The Faculty of Health Sciences', 'ORG'), ('2018', 'DATE'), ('5,000', 'CARDINAL'), ('the Department of Biomedicine', 'ORG'), ('another Nobel Prize', 'WORK_OF_ART'), ('1935-1942', 'DATE'), ('Technical Sciences', 'ORG'), ('King Christian X', 'NORP'), ('2025', 'CARDINAL'), ('the Nobel Prize in Chemistry', 'WORK_OF_ART'), ('German', 'NORP'), ('DPU', 'ORG'), ('1965', 'DATE'), ('1997', 'DATE'), ('4 and 5', 'DATE'), ('Kay Fisker', 'PERSON'), ('1977', 'DATE'), ('English', 'LANGUAGE'), ('78', 'CARDINAL'), ('15,000', 'CARDINAL'), ('four to five', 'CARDINAL'), ('Aarhus', 'NORP'), ('31 October 1944', 'DATE'), ('the Aarhus School of Business', 'ORG'), ('about 34,000', 'CARDINAL'), ('many years', 'DATE'), ('1928', 'DATE'), ('1992', 'DATE'), ('one', 'CARDINAL'), ('2010', 'DATE'), ('100th', 'ORDINAL'), ('Five', 'CARDINAL'), ('the Nobel Prize in Economic Sciences', 'WORK_OF_ART'), ('the Nobel Prize', 'WORK_OF_ART'), ('January 2020', 'DATE'), ('the Faculty of Science and Technology', 'ORG'), ('2011', 'DATE'), ('First Nobel Prize', 'WORK_OF_ART'), ('Business and Social Sciences', 'ORG'), ('the Department of Clinical Medicine', 'ORG'), ('Dale T. Mortensen Building', 'PERSON'), ('1933', 'DATE'), ('Forskningsfondens Ejendomsselskab A/S', 'ORG'), ('Danish', 'NORP'), ('the University Park', 'LOC'), ('the Department of Economics and Business Economics', 'ORG'), ('Aarhus University’s', 'ORG'), ('the National Environmental Research Institute', 'ORG'), ('Medicine, Economics, Law', 'ORG'), ('the Danish University of Education', 'ORG'), ('2012', 'DATE'), ('2020', 'DATE'), ('The Institute of Business and Technology', 'ORG'), ('38,000', 'CARDINAL'), ('Dale T. Mortensen', 'PERSON'), ('nine to four', 'CARDINAL'), ('11 September 1933', 'DATE'), ('the Faculty of Health Sciences', 'ORG'), ('French', 'LANGUAGE'), ('C. F. Møller', 'PERSON'), ('University Teaching in Jutland', 'ORG'), ('Science and Technology', 'ORG'), ('the Aarhus College of Dentistry', 'ORG'), ('1934', 'DATE'), ('British', 'NORP'), ('Navitas', 'ORG'), ('two', 'CARDINAL'), ('The Aarhus University School of Engineering', 'ORG'), ('the Faculty of Medical Sciences', 'ORG'), ('2006-2007', 'DATE')}\n"
     ]
    }
   ],
   "source": [
    "print(set(entities))"
   ]
  },
  {
   "cell_type": "markdown",
   "metadata": {},
   "source": [
    "### Adjective frequency"
   ]
  },
  {
   "cell_type": "code",
   "execution_count": 39,
   "metadata": {
    "ExecuteTime": {
     "end_time": "2025-02-24T09:43:36.830929Z",
     "start_time": "2025-02-24T09:43:36.828308Z"
    }
   },
   "outputs": [],
   "source": [
    "# count number of adjectives\n",
    "adjective_count = 0\n",
    "for token in doc:\n",
    "    if token.pos_ == \"ADJ\":\n",
    "        adjective_count += 1"
   ]
  },
  {
   "cell_type": "code",
   "execution_count": 40,
   "metadata": {
    "ExecuteTime": {
     "end_time": "2025-02-24T09:43:36.883240Z",
     "start_time": "2025-02-24T09:43:36.879436Z"
    }
   },
   "outputs": [
    {
     "data": {
      "text/plain": [
       "34"
      ]
     },
     "execution_count": 40,
     "metadata": {},
     "output_type": "execute_result"
    }
   ],
   "source": [
    "adjective_count"
   ]
  },
  {
   "cell_type": "code",
   "execution_count": 42,
   "metadata": {},
   "outputs": [
    {
     "data": {
      "text/plain": [
       "799"
      ]
     },
     "execution_count": 42,
     "metadata": {},
     "output_type": "execute_result"
    }
   ],
   "source": [
    "len(doc)"
   ]
  },
  {
   "cell_type": "code",
   "execution_count": 45,
   "metadata": {
    "ExecuteTime": {
     "end_time": "2025-02-24T09:43:36.931961Z",
     "start_time": "2025-02-24T09:43:36.929550Z"
    }
   },
   "outputs": [],
   "source": [
    "# find the relative frequency per 100 tokens\n",
    "percent = (adjective_count/len(doc)) * 100"
   ]
  },
  {
   "cell_type": "code",
   "execution_count": 46,
   "metadata": {
    "ExecuteTime": {
     "end_time": "2025-02-24T09:43:36.981766Z",
     "start_time": "2025-02-24T09:43:36.978590Z"
    }
   },
   "outputs": [
    {
     "data": {
      "text/plain": [
       "4.26"
      ]
     },
     "execution_count": 46,
     "metadata": {},
     "output_type": "execute_result"
    }
   ],
   "source": [
    "round(percent, 2)"
   ]
  },
  {
   "cell_type": "markdown",
   "metadata": {},
   "source": [
    "## Creating neater outputs using ```pandas```"
   ]
  },
  {
   "cell_type": "markdown",
   "metadata": {},
   "source": [
    "At the moment, all of our output from ```spaCy``` is in the form of lists. If we want to save these, it probably makes sense to have them saved in a more transferable format, such as CSV files or JSONs.\n",
    "\n",
    "One very easy way to do this with Python is by using the dataframe library ```pandas```."
   ]
  },
  {
   "cell_type": "code",
   "execution_count": 20,
   "metadata": {
    "ExecuteTime": {
     "end_time": "2025-02-24T09:43:37.032185Z",
     "start_time": "2025-02-24T09:43:37.028695Z"
    }
   },
   "outputs": [],
   "source": [
    "import pandas as pd"
   ]
  },
  {
   "cell_type": "code",
   "execution_count": 47,
   "metadata": {
    "ExecuteTime": {
     "end_time": "2025-02-24T09:43:37.093932Z",
     "start_time": "2025-02-24T09:43:37.085043Z"
    }
   },
   "outputs": [],
   "source": [
    "# create spaCy doc\n",
    "# create a new Doc object\n",
    "doc = nlp(input_string)"
   ]
  },
  {
   "cell_type": "code",
   "execution_count": 22,
   "metadata": {
    "ExecuteTime": {
     "end_time": "2025-02-24T09:43:37.135438Z",
     "start_time": "2025-02-24T09:43:37.133087Z"
    }
   },
   "outputs": [],
   "source": [
    "annotations = []\n",
    "for token in doc:\n",
    "    annotations.append((token.text, token.pos_))"
   ]
  },
  {
   "cell_type": "code",
   "execution_count": 23,
   "metadata": {
    "ExecuteTime": {
     "end_time": "2025-02-24T09:43:37.186557Z",
     "start_time": "2025-02-24T09:43:37.181903Z"
    }
   },
   "outputs": [
    {
     "data": {
      "text/plain": [
       "[('My', 'PRON'),\n",
       " ('name', 'NOUN'),\n",
       " ('is', 'AUX'),\n",
       " ('Ross', 'PROPN'),\n",
       " ('and', 'CCONJ'),\n",
       " ('I', 'PRON'),\n",
       " ('have', 'VERB'),\n",
       " ('family', 'NOUN'),\n",
       " ('in', 'ADP'),\n",
       " ('New', 'PROPN'),\n",
       " ('York', 'PROPN'),\n",
       " ('City', 'PROPN'),\n",
       " ('.', 'PUNCT')]"
      ]
     },
     "execution_count": 23,
     "metadata": {},
     "output_type": "execute_result"
    }
   ],
   "source": [
    "annotations"
   ]
  },
  {
   "cell_type": "code",
   "execution_count": 48,
   "metadata": {
    "ExecuteTime": {
     "end_time": "2025-02-24T09:43:37.236682Z",
     "start_time": "2025-02-24T09:43:37.233376Z"
    }
   },
   "outputs": [],
   "source": [
    "# spaCy doc to pandas dataframe\n",
    "data = pd.DataFrame(annotations,\n",
    "                    columns=[\"Token\", \"POS-tag\"])"
   ]
  },
  {
   "cell_type": "code",
   "execution_count": 49,
   "metadata": {
    "ExecuteTime": {
     "end_time": "2025-02-24T09:43:37.291947Z",
     "start_time": "2025-02-24T09:43:37.285664Z"
    }
   },
   "outputs": [
    {
     "data": {
      "text/html": [
       "<div>\n",
       "<style scoped>\n",
       "    .dataframe tbody tr th:only-of-type {\n",
       "        vertical-align: middle;\n",
       "    }\n",
       "\n",
       "    .dataframe tbody tr th {\n",
       "        vertical-align: top;\n",
       "    }\n",
       "\n",
       "    .dataframe thead th {\n",
       "        text-align: right;\n",
       "    }\n",
       "</style>\n",
       "<table border=\"1\" class=\"dataframe\">\n",
       "  <thead>\n",
       "    <tr style=\"text-align: right;\">\n",
       "      <th></th>\n",
       "      <th>Token</th>\n",
       "      <th>POS-tag</th>\n",
       "    </tr>\n",
       "  </thead>\n",
       "  <tbody>\n",
       "    <tr>\n",
       "      <th>0</th>\n",
       "      <td>My</td>\n",
       "      <td>PRON</td>\n",
       "    </tr>\n",
       "    <tr>\n",
       "      <th>1</th>\n",
       "      <td>name</td>\n",
       "      <td>NOUN</td>\n",
       "    </tr>\n",
       "    <tr>\n",
       "      <th>2</th>\n",
       "      <td>is</td>\n",
       "      <td>AUX</td>\n",
       "    </tr>\n",
       "    <tr>\n",
       "      <th>3</th>\n",
       "      <td>Ross</td>\n",
       "      <td>PROPN</td>\n",
       "    </tr>\n",
       "    <tr>\n",
       "      <th>4</th>\n",
       "      <td>and</td>\n",
       "      <td>CCONJ</td>\n",
       "    </tr>\n",
       "    <tr>\n",
       "      <th>5</th>\n",
       "      <td>I</td>\n",
       "      <td>PRON</td>\n",
       "    </tr>\n",
       "    <tr>\n",
       "      <th>6</th>\n",
       "      <td>have</td>\n",
       "      <td>VERB</td>\n",
       "    </tr>\n",
       "    <tr>\n",
       "      <th>7</th>\n",
       "      <td>family</td>\n",
       "      <td>NOUN</td>\n",
       "    </tr>\n",
       "    <tr>\n",
       "      <th>8</th>\n",
       "      <td>in</td>\n",
       "      <td>ADP</td>\n",
       "    </tr>\n",
       "    <tr>\n",
       "      <th>9</th>\n",
       "      <td>New</td>\n",
       "      <td>PROPN</td>\n",
       "    </tr>\n",
       "    <tr>\n",
       "      <th>10</th>\n",
       "      <td>York</td>\n",
       "      <td>PROPN</td>\n",
       "    </tr>\n",
       "    <tr>\n",
       "      <th>11</th>\n",
       "      <td>City</td>\n",
       "      <td>PROPN</td>\n",
       "    </tr>\n",
       "    <tr>\n",
       "      <th>12</th>\n",
       "      <td>.</td>\n",
       "      <td>PUNCT</td>\n",
       "    </tr>\n",
       "  </tbody>\n",
       "</table>\n",
       "</div>"
      ],
      "text/plain": [
       "     Token POS-tag\n",
       "0       My    PRON\n",
       "1     name    NOUN\n",
       "2       is     AUX\n",
       "3     Ross   PROPN\n",
       "4      and   CCONJ\n",
       "5        I    PRON\n",
       "6     have    VERB\n",
       "7   family    NOUN\n",
       "8       in     ADP\n",
       "9      New   PROPN\n",
       "10    York   PROPN\n",
       "11    City   PROPN\n",
       "12       .   PUNCT"
      ]
     },
     "execution_count": 49,
     "metadata": {},
     "output_type": "execute_result"
    }
   ],
   "source": [
    "data"
   ]
  },
  {
   "cell_type": "code",
   "execution_count": 50,
   "metadata": {
    "ExecuteTime": {
     "end_time": "2025-02-24T09:43:37.377706Z",
     "start_time": "2025-02-24T09:43:37.373445Z"
    }
   },
   "outputs": [],
   "source": [
    "# save dataframe\n",
    "output_path = os.path.join(\"output\", \"annotations.csv\")\n",
    "os.makedirs(os.path.dirname(output_path), exist_ok=True)  # make if it does not exist\n",
    "data.to_csv(output_path)"
   ]
  },
  {
   "cell_type": "code",
   "execution_count": null,
   "metadata": {},
   "outputs": [],
   "source": []
  }
 ],
 "metadata": {
  "kernelspec": {
   "display_name": "Python 3",
   "language": "python",
   "name": "python3"
  },
  "language_info": {
   "codemirror_mode": {
    "name": "ipython",
    "version": 3
   },
   "file_extension": ".py",
   "mimetype": "text/x-python",
   "name": "python",
   "nbconvert_exporter": "python",
   "pygments_lexer": "ipython3",
   "version": "3.12.3"
  }
 },
 "nbformat": 4,
 "nbformat_minor": 4
}
