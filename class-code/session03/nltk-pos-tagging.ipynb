{
 "cells": [
  {
   "cell_type": "code",
   "metadata": {
    "ExecuteTime": {
     "end_time": "2025-05-20T10:27:00.827783Z",
     "start_time": "2025-05-20T10:27:00.287873Z"
    }
   },
   "source": "!pip install \"nltk<=3.8.1\"",
   "outputs": [
    {
     "name": "stdout",
     "output_type": "stream",
     "text": [
      "Requirement already satisfied: nltk<=3.8.1 in /Users/au479461/PycharmProjects/language-analytics/.venv/lib/python3.13/site-packages (3.8.1)\r\n",
      "Requirement already satisfied: click in /Users/au479461/PycharmProjects/language-analytics/.venv/lib/python3.13/site-packages (from nltk<=3.8.1) (8.2.0)\r\n",
      "Requirement already satisfied: joblib in /Users/au479461/PycharmProjects/language-analytics/.venv/lib/python3.13/site-packages (from nltk<=3.8.1) (1.5.0)\r\n",
      "Requirement already satisfied: regex>=2021.8.3 in /Users/au479461/PycharmProjects/language-analytics/.venv/lib/python3.13/site-packages (from nltk<=3.8.1) (2024.11.6)\r\n",
      "Requirement already satisfied: tqdm in /Users/au479461/PycharmProjects/language-analytics/.venv/lib/python3.13/site-packages (from nltk<=3.8.1) (4.67.1)\r\n",
      "\r\n",
      "\u001B[1m[\u001B[0m\u001B[34;49mnotice\u001B[0m\u001B[1;39;49m]\u001B[0m\u001B[39;49m A new release of pip is available: \u001B[0m\u001B[31;49m25.0.1\u001B[0m\u001B[39;49m -> \u001B[0m\u001B[32;49m25.1.1\u001B[0m\r\n",
      "\u001B[1m[\u001B[0m\u001B[34;49mnotice\u001B[0m\u001B[1;39;49m]\u001B[0m\u001B[39;49m To update, run: \u001B[0m\u001B[32;49mpip install --upgrade pip\u001B[0m\r\n"
     ]
    }
   ],
   "execution_count": 1
  },
  {
   "cell_type": "code",
   "metadata": {
    "ExecuteTime": {
     "end_time": "2025-05-20T10:27:01.818635Z",
     "start_time": "2025-05-20T10:27:01.247372Z"
    }
   },
   "source": [
    "import nltk\n",
    "\n",
    "import ssl\n",
    "\n",
    "try:\n",
    "    _create_unverified_https_context = ssl._create_unverified_context\n",
    "except AttributeError:\n",
    "    pass\n",
    "else:\n",
    "    ssl._create_default_https_context = _create_unverified_https_context\n",
    "\n",
    "nltk.download(\"punkt\")\n",
    "nltk.download(\"averaged_perceptron_tagger\")"
   ],
   "outputs": [
    {
     "name": "stderr",
     "output_type": "stream",
     "text": [
      "[nltk_data] Downloading package punkt to /Users/au479461/nltk_data...\n",
      "[nltk_data]   Package punkt is already up-to-date!\n",
      "[nltk_data] Downloading package averaged_perceptron_tagger to\n",
      "[nltk_data]     /Users/au479461/nltk_data...\n",
      "[nltk_data]   Unzipping taggers/averaged_perceptron_tagger.zip.\n"
     ]
    },
    {
     "data": {
      "text/plain": [
       "True"
      ]
     },
     "execution_count": 2,
     "metadata": {},
     "output_type": "execute_result"
    }
   ],
   "execution_count": 2
  },
  {
   "cell_type": "code",
   "metadata": {
    "ExecuteTime": {
     "end_time": "2025-05-20T10:27:02.882587Z",
     "start_time": "2025-05-20T10:27:02.880613Z"
    }
   },
   "source": [
    "from nltk import word_tokenize, pos_tag"
   ],
   "outputs": [],
   "execution_count": 3
  },
  {
   "cell_type": "code",
   "metadata": {
    "ExecuteTime": {
     "end_time": "2025-05-20T10:27:03.200496Z",
     "start_time": "2025-05-20T10:27:03.194779Z"
    }
   },
   "source": [
    "tokens = word_tokenize(\"This is a sentence.\")"
   ],
   "outputs": [],
   "execution_count": 4
  },
  {
   "cell_type": "code",
   "metadata": {
    "ExecuteTime": {
     "end_time": "2025-05-20T10:27:03.452979Z",
     "start_time": "2025-05-20T10:27:03.450904Z"
    }
   },
   "source": [
    "tokens"
   ],
   "outputs": [
    {
     "data": {
      "text/plain": [
       "['This', 'is', 'a', 'sentence', '.']"
      ]
     },
     "execution_count": 5,
     "metadata": {},
     "output_type": "execute_result"
    }
   ],
   "execution_count": 5
  },
  {
   "cell_type": "code",
   "metadata": {
    "ExecuteTime": {
     "end_time": "2025-05-20T10:27:03.662527Z",
     "start_time": "2025-05-20T10:27:03.636225Z"
    }
   },
   "source": [
    "pos_tag(tokens)"
   ],
   "outputs": [
    {
     "data": {
      "text/plain": [
       "[('This', 'DT'), ('is', 'VBZ'), ('a', 'DT'), ('sentence', 'NN'), ('.', '.')]"
      ]
     },
     "execution_count": 6,
     "metadata": {},
     "output_type": "execute_result"
    }
   ],
   "execution_count": 6
  },
  {
   "cell_type": "code",
   "execution_count": null,
   "metadata": {},
   "outputs": [],
   "source": []
  }
 ],
 "metadata": {
  "kernelspec": {
   "display_name": "Python 3",
   "language": "python",
   "name": "python3"
  },
  "language_info": {
   "codemirror_mode": {
    "name": "ipython",
    "version": 3
   },
   "file_extension": ".py",
   "mimetype": "text/x-python",
   "name": "python",
   "nbconvert_exporter": "python",
   "pygments_lexer": "ipython3",
   "version": "3.12.3"
  }
 },
 "nbformat": 4,
 "nbformat_minor": 2
}
