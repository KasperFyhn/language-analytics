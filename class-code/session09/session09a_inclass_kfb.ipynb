{
 "cells": [
  {
   "cell_type": "markdown",
   "id": "1c6701f8-424e-4dbb-a208-59f232970940",
   "metadata": {},
   "source": [
    "# Working with word embeddings"
   ]
  },
  {
   "cell_type": "markdown",
   "id": "3d5374aa-257e-4ec3-add4-cbe26f926350",
   "metadata": {},
   "source": [
    "So far we've seen a couple of key Python libraries for doing specific tasks in NLP. For example, ```scikit-learn``` provides a whole host of fundamental machine learning algortithms; ```spaCy``` allows us to do robust linguistic analysis; ```pandas``` for working with dataframes; ```numpy``` for numerical calculations; and ```matplotlib``` for simple plotting.\n",
    "\n",
    "Today, we're going to meet ```gensim``` which is the best way to work with (static) word embeddings like word2vec. You can find the documentation [here](https://radimrehurek.com/gensim/)."
   ]
  },
  {
   "cell_type": "code",
   "execution_count": 1,
   "id": "377bfa0c-a4fc-4b31-9e20-aeba254db6d5",
   "metadata": {
    "ExecuteTime": {
     "end_time": "2025-03-31T08:15:45.479574Z",
     "start_time": "2025-03-31T08:15:43.750845Z"
    },
    "execution": {
     "iopub.execute_input": "2022-10-13T11:26:12.530529Z",
     "iopub.status.busy": "2022-10-13T11:26:12.529804Z",
     "iopub.status.idle": "2022-10-13T11:26:13.556862Z",
     "shell.execute_reply": "2022-10-13T11:26:13.555130Z",
     "shell.execute_reply.started": "2022-10-13T11:26:12.530471Z"
    },
    "tags": []
   },
   "outputs": [],
   "source": [
    "import gensim\n",
    "import gensim.downloader\n",
    "import gensim.downloader as api\n",
    "\n",
    "import matplotlib.pyplot as plt\n",
    "from sklearn.decomposition import TruncatedSVD\n",
    "from sklearn.decomposition import PCA"
   ]
  },
  {
   "cell_type": "markdown",
   "id": "9d11e678-a148-42f4-983d-e71e2a5fa9ab",
   "metadata": {},
   "source": [
    "Gensim has many pre-trained static word embeddings. Below, I get a list via the gensim download API to see the options."
   ]
  },
  {
   "cell_type": "code",
   "execution_count": null,
   "id": "ac8eb52fb9663aff",
   "metadata": {
    "ExecuteTime": {
     "end_time": "2025-03-31T08:15:51.111585Z",
     "start_time": "2025-03-31T08:15:45.493138Z"
    }
   },
   "outputs": [
    {
     "name": "stdout",
     "output_type": "stream",
     "text": [
      "fasttext-wiki-news-subwords-300\n",
      "\t description : 1 million word vectors trained on Wikipedia 2017, UMBC webbase corpus and statmt.org news dataset (16B tokens).\n",
      "\t base_dataset : Wikipedia 2017, UMBC webbase corpus and statmt.org news dataset (16B tokens)\n",
      "conceptnet-numberbatch-17-06-300\n",
      "\t description : ConceptNet Numberbatch consists of state-of-the-art semantic vectors (also known as word embeddings) that can be used directly as a representation of word meanings or as a starting point for further machine learning. ConceptNet Numberbatch is part of the ConceptNet open data project. ConceptNet provides lots of ways to compute with word meanings, one of which is word embeddings. ConceptNet Numberbatch is a snapshot of just the word embeddings. It is built using an ensemble that combines data from ConceptNet, word2vec, GloVe, and OpenSubtitles 2016, using a variation on retrofitting.\n",
      "\t base_dataset : ConceptNet, word2vec, GloVe, and OpenSubtitles 2016\n",
      "word2vec-ruscorpora-300\n",
      "\t description : Word2vec Continuous Skipgram vectors trained on full Russian National Corpus (about 250M words). The model contains 185K words.\n",
      "\t base_dataset : Russian National Corpus (about 250M words)\n",
      "word2vec-google-news-300\n",
      "\t description : Pre-trained vectors trained on a part of the Google News dataset (about 100 billion words). The model contains 300-dimensional vectors for 3 million words and phrases. The phrases were obtained using a simple data-driven approach described in 'Distributed Representations of Words and Phrases and their Compositionality' (https://code.google.com/archive/p/word2vec/).\n",
      "\t base_dataset : Google News (about 100 billion words)\n",
      "glove-wiki-gigaword-50\n",
      "\t description : Pre-trained vectors based on Wikipedia 2014 + Gigaword, 5.6B tokens, 400K vocab, uncased (https://nlp.stanford.edu/projects/glove/).\n",
      "\t base_dataset : Wikipedia 2014 + Gigaword 5 (6B tokens, uncased)\n",
      "glove-wiki-gigaword-100\n",
      "\t description : Pre-trained vectors based on Wikipedia 2014 + Gigaword 5.6B tokens, 400K vocab, uncased (https://nlp.stanford.edu/projects/glove/).\n",
      "\t base_dataset : Wikipedia 2014 + Gigaword 5 (6B tokens, uncased)\n",
      "glove-wiki-gigaword-200\n",
      "\t description : Pre-trained vectors based on Wikipedia 2014 + Gigaword, 5.6B tokens, 400K vocab, uncased (https://nlp.stanford.edu/projects/glove/).\n",
      "\t base_dataset : Wikipedia 2014 + Gigaword 5 (6B tokens, uncased)\n",
      "glove-wiki-gigaword-300\n",
      "\t description : Pre-trained vectors based on Wikipedia 2014 + Gigaword, 5.6B tokens, 400K vocab, uncased (https://nlp.stanford.edu/projects/glove/).\n",
      "\t base_dataset : Wikipedia 2014 + Gigaword 5 (6B tokens, uncased)\n",
      "glove-twitter-25\n",
      "\t description : Pre-trained vectors based on 2B tweets, 27B tokens, 1.2M vocab, uncased (https://nlp.stanford.edu/projects/glove/).\n",
      "\t base_dataset : Twitter (2B tweets, 27B tokens, 1.2M vocab, uncased)\n",
      "glove-twitter-50\n",
      "\t description : Pre-trained vectors based on 2B tweets, 27B tokens, 1.2M vocab, uncased (https://nlp.stanford.edu/projects/glove/)\n",
      "\t base_dataset : Twitter (2B tweets, 27B tokens, 1.2M vocab, uncased)\n",
      "glove-twitter-100\n",
      "\t description : Pre-trained vectors based on  2B tweets, 27B tokens, 1.2M vocab, uncased (https://nlp.stanford.edu/projects/glove/)\n",
      "\t base_dataset : Twitter (2B tweets, 27B tokens, 1.2M vocab, uncased)\n",
      "glove-twitter-200\n",
      "\t description : Pre-trained vectors based on 2B tweets, 27B tokens, 1.2M vocab, uncased (https://nlp.stanford.edu/projects/glove/).\n",
      "\t base_dataset : Twitter (2B tweets, 27B tokens, 1.2M vocab, uncased)\n",
      "__testing_word2vec-matrix-synopsis\n",
      "\t description : [THIS IS ONLY FOR TESTING] Word vecrors of the movie matrix.\n"
     ]
    }
   ],
   "source": [
    "# keys in the returned dicts that are of interest to use\n",
    "info_keys = ['description', 'base_dataset']\n",
    "\n",
    "\n",
    "for model_name, model_info in gensim.downloader.info()['models'].items():\n",
    "    print(model_name)\n",
    "    for key in info_keys:\n",
    "        if key not in model_info:\n",
    "            continue\n",
    "        info = model_info[key]\n",
    "        print('\\t', key, ':', info)\n"
   ]
  },
  {
   "cell_type": "code",
   "execution_count": 3,
   "id": "2ed41b0a-a40c-4bc5-b98a-e87d79c05d0a",
   "metadata": {
    "ExecuteTime": {
     "end_time": "2025-03-31T08:16:41.055274Z",
     "start_time": "2025-03-31T08:15:51.304101Z"
    },
    "execution": {
     "iopub.execute_input": "2022-10-13T11:26:15.090456Z",
     "iopub.status.busy": "2022-10-13T11:26:15.089708Z",
     "iopub.status.idle": "2022-10-13T11:26:17.622369Z",
     "shell.execute_reply": "2022-10-13T11:26:17.620582Z",
     "shell.execute_reply.started": "2022-10-13T11:26:15.090393Z"
    },
    "tags": []
   },
   "outputs": [
    {
     "name": "stdout",
     "output_type": "stream",
     "text": [
      "[==================================================] 100.0% 387.1/387.1MB downloaded\n"
     ]
    }
   ],
   "source": [
    "# go ahead an experiment with different models.\n",
    "# below I will use a smaller model for demo purposes\n",
    "# bigger models will take some time to load!\n",
    "model = api.load(\"glove-twitter-100\")"
   ]
  },
  {
   "cell_type": "markdown",
   "id": "ebf79327-ffe5-43ba-8f09-3ee8e4ec3c95",
   "metadata": {},
   "source": [
    "I've (not I Kasper, but Ross. Thanks, Ross!) outlined a couple of tasks for you below to experiment with. Use these just a stepping off points to explore the nature of word embeddings and how they work.\n",
    "\n",
    "Work in small groups on these tasks and make sure to discuss the issues and compare results!"
   ]
  },
  {
   "cell_type": "markdown",
   "id": "2b3f0777d6e2662b",
   "metadata": {},
   "source": [
    "### Task 0: The vectors\n",
    "\n",
    "Have a look at a vector. Maybe two. While they are black box representations of words, it may help you to get a sense of what they are in practice: long lists of numbers."
   ]
  },
  {
   "cell_type": "code",
   "execution_count": 7,
   "id": "30724dd9345f7c33",
   "metadata": {
    "ExecuteTime": {
     "end_time": "2025-03-31T08:18:07.686274Z",
     "start_time": "2025-03-31T08:18:07.681925Z"
    }
   },
   "outputs": [],
   "source": [
    "cat_vector = model[\"cat\"]"
   ]
  },
  {
   "cell_type": "code",
   "execution_count": 8,
   "id": "1eb8c15a8342f087",
   "metadata": {
    "ExecuteTime": {
     "end_time": "2025-03-31T08:18:08.548397Z",
     "start_time": "2025-03-31T08:18:08.543044Z"
    }
   },
   "outputs": [
    {
     "data": {
      "text/plain": [
       "(100,)"
      ]
     },
     "execution_count": 8,
     "metadata": {},
     "output_type": "execute_result"
    }
   ],
   "source": [
    "cat_vector.shape"
   ]
  },
  {
   "cell_type": "code",
   "execution_count": 10,
   "id": "4d7a042328785145",
   "metadata": {
    "ExecuteTime": {
     "end_time": "2025-03-31T08:20:27.884153Z",
     "start_time": "2025-03-31T08:20:27.876223Z"
    }
   },
   "outputs": [
    {
     "data": {
      "text/plain": [
       "array([ 0.28378   ,  0.51154006,  0.58068997,  0.06518   , -0.316148  ,\n",
       "        0.09908   ,  0.68097997,  0.32469   ,  0.46798003,  0.45884332,\n",
       "       -0.18392   ,  0.74072003, -2.62524   ,  0.44317302, -0.184625  ,\n",
       "        0.55441004,  0.07789001,  0.281647  ,  0.152997  , -0.83138   ,\n",
       "       -0.2303432 , -0.03797999,  0.5052    , -0.5836081 ,  0.81937003,\n",
       "       -1.52746   , -0.67188   ,  0.05814001,  0.52458   ,  0.17989   ,\n",
       "        0.253675  ,  0.05417   ,  0.07034999, -0.159674  ,  0.98205996,\n",
       "       -0.28252   , -0.637431  , -0.237894  ,  0.42475998,  0.4218149 ,\n",
       "       -0.91656   ,  0.18882   , -0.97351   , -0.32827199,  0.0914    ,\n",
       "       -0.04236001,  0.5993966 ,  0.35039002, -0.23984   , -0.538397  ,\n",
       "       -0.589912  ,  0.11551   ,  0.36722898, -0.30347002,  0.5567    ,\n",
       "        0.02548999,  0.25160003,  0.24816   ,  0.90613997,  0.076362  ,\n",
       "       -0.201481  ,  0.04405999,  0.89585   , -0.69548   , -0.40938997,\n",
       "       -0.75379   , -0.836972  ,  0.27672   ,  0.05488998,  0.07525   ,\n",
       "       -0.00566   , -0.21309601,  0.26648998, -0.90571004, -0.06518999,\n",
       "       -0.485611  , -0.57111   ,  0.03542   , -0.54859996,  0.25792003,\n",
       "        0.62279004,  0.04562998, -0.21667   , -0.34952003, -0.11413001,\n",
       "       -0.37755996,  0.03572001,  0.553273  , -0.144887  ,  0.11471   ,\n",
       "       -0.24133499,  0.04716999, -0.5388    , -0.29250997,  0.11058   ,\n",
       "        0.204617  ,  0.23739001, -0.08699   , -0.03126001, -0.46212   ],\n",
       "      dtype=float32)"
      ]
     },
     "execution_count": 10,
     "metadata": {},
     "output_type": "execute_result"
    }
   ],
   "source": [
    "# When they arre nothing but regular vectors in practice, we can do all sorts of things with them. Some may make sense, some may not.\n",
    "\n",
    "# n principle, this may remove the \"feline\" part of a cat. What might be left?\n",
    "model[\"cat\"] - model[\"feline\"]"
   ]
  },
  {
   "cell_type": "code",
   "execution_count": 14,
   "id": "560e004440426635",
   "metadata": {
    "ExecuteTime": {
     "end_time": "2025-03-31T08:22:05.867468Z",
     "start_time": "2025-03-31T08:22:05.863767Z"
    }
   },
   "outputs": [
    {
     "data": {
      "text/plain": [
       "30.606619"
      ]
     },
     "execution_count": 14,
     "metadata": {},
     "output_type": "execute_result"
    }
   ],
   "source": [
    "import numpy as np\n",
    "\n",
    "# dot product\n",
    "np.dot(model[\"cat\"], model[\"dog\"])"
   ]
  },
  {
   "cell_type": "code",
   "execution_count": 17,
   "id": "4bc9637a6b0a5af0",
   "metadata": {
    "ExecuteTime": {
     "end_time": "2025-03-31T08:24:33.379800Z",
     "start_time": "2025-03-31T08:24:33.373758Z"
    }
   },
   "outputs": [
    {
     "data": {
      "text/plain": [
       "5.664348"
      ]
     },
     "execution_count": 17,
     "metadata": {},
     "output_type": "execute_result"
    }
   ],
   "source": [
    "# length of a vector, spelled out\n",
    "np.sqrt(np.dot(model[\"cat\"], model[\"cat\"]))"
   ]
  },
  {
   "cell_type": "markdown",
   "id": "6d604e11-9b07-4d12-b10f-3309484819fa",
   "metadata": {},
   "source": [
    "### Task 1: Finding polysemy\n",
    "\n",
    "Find a polysemous word (i.e. words with more than one meaning) such that the top-10 most similar words (according to cosine similarity) contains related words from both meanings. An example is given for you below in English.\n",
    "\n",
    "Are there certain words for which polysemy is more of a problem?"
   ]
  },
  {
   "cell_type": "code",
   "execution_count": 7,
   "id": "2cd074b4-23ee-4d70-afc8-db85bd53e904",
   "metadata": {
    "ExecuteTime": {
     "end_time": "2025-03-25T07:28:14.943223Z",
     "start_time": "2025-03-25T07:28:14.901319Z"
    },
    "execution": {
     "iopub.execute_input": "2022-10-13T11:26:39.457702Z",
     "iopub.status.busy": "2022-10-13T11:26:39.457000Z",
     "iopub.status.idle": "2022-10-13T11:26:39.620121Z",
     "shell.execute_reply": "2022-10-13T11:26:39.618193Z",
     "shell.execute_reply.started": "2022-10-13T11:26:39.457645Z"
    },
    "tags": []
   },
   "outputs": [
    {
     "data": {
      "text/plain": [
       "[('mickey', 0.7609332799911499),\n",
       " ('rabbit', 0.6879944801330566),\n",
       " ('hamster', 0.6657567620277405),\n",
       " ('cat', 0.6595972180366516),\n",
       " ('minnie', 0.6593716740608215),\n",
       " ('keyboard', 0.6403798460960388),\n",
       " ('turtle', 0.6392719149589539),\n",
       " ('kitty', 0.6229013800621033),\n",
       " ('camera', 0.6178072690963745),\n",
       " ('dog', 0.6132174134254456)]"
      ]
     },
     "execution_count": 7,
     "metadata": {},
     "output_type": "execute_result"
    }
   ],
   "source": [
    "model.most_similar(\"mouse\")"
   ]
  },
  {
   "cell_type": "code",
   "execution_count": 8,
   "id": "3d7ebd60cabbebe3",
   "metadata": {
    "ExecuteTime": {
     "end_time": "2025-03-25T07:30:21.488563Z",
     "start_time": "2025-03-25T07:30:21.485949Z"
    }
   },
   "outputs": [],
   "source": [
    "# put other examples here"
   ]
  },
  {
   "cell_type": "markdown",
   "id": "4a78f14e-45b0-4538-ae54-ffeb01836618",
   "metadata": {},
   "source": [
    "### Task 2: Synonyms and antonyms\n",
    "\n",
    "In the lecture, we saw that _cosine similarity_ can also be thought of as _cosine distance_, which is simply ```1 - cosine similarity```. So the higher the cosine distance, the further away two words are from each other and so they have less \"in common\".\n",
    "\n",
    "Find three words ```(w1,w2,w3)``` where ```w1``` and ```w2``` are synonyms (same meaning) and ```w1``` and ```w3``` are antonyms (opposite meaning), but where: \n",
    "\n",
    "```Cosine Distance(w1,w3) < Cosine Distance(w1,w2)```\n",
    "\n",
    "For example, if we look at the example below:\n",
    "\n",
    "w1=\"happy\" is closer to w3=\"sad\" than to w2=\"cheerful\".\n",
    "\n",
    "Once you have found your example, think about a possible explanation for why this counter-intuitive result may have happened. Are there any inconsistencies?\n",
    "\n",
    "You should use the the ```model.distance(w1, w2)``` function here in order to compute the cosine distance between two words. I've given a starting example below."
   ]
  },
  {
   "cell_type": "code",
   "execution_count": 29,
   "id": "8b476719-0cc1-4da2-bdd9-98bd22bd48e2",
   "metadata": {
    "ExecuteTime": {
     "end_time": "2025-03-20T12:42:45.510050Z",
     "start_time": "2025-03-20T12:42:45.505091Z"
    },
    "execution": {
     "iopub.execute_input": "2022-10-13T11:28:51.002030Z",
     "iopub.status.busy": "2022-10-13T11:28:51.001364Z",
     "iopub.status.idle": "2022-10-13T11:28:51.012787Z",
     "shell.execute_reply": "2022-10-13T11:28:51.011701Z",
     "shell.execute_reply.started": "2022-10-13T11:28:51.001973Z"
    },
    "tags": []
   },
   "outputs": [
    {
     "data": {
      "text/plain": [
       "0.4100914001464844"
      ]
     },
     "execution_count": 29,
     "metadata": {},
     "output_type": "execute_result"
    }
   ],
   "source": [
    "model.distance(\"happy\", \"sad\")"
   ]
  },
  {
   "cell_type": "code",
   "execution_count": 30,
   "id": "72d9efe2-809f-4944-9e6d-a9c735ccc4ff",
   "metadata": {
    "ExecuteTime": {
     "end_time": "2025-03-20T12:42:45.913253Z",
     "start_time": "2025-03-20T12:42:45.909405Z"
    },
    "execution": {
     "iopub.execute_input": "2022-10-13T11:28:36.667432Z",
     "iopub.status.busy": "2022-10-13T11:28:36.666728Z",
     "iopub.status.idle": "2022-10-13T11:28:36.677467Z",
     "shell.execute_reply": "2022-10-13T11:28:36.676303Z",
     "shell.execute_reply.started": "2022-10-13T11:28:36.667375Z"
    },
    "tags": []
   },
   "outputs": [
    {
     "data": {
      "text/plain": [
       "0.6339455842971802"
      ]
     },
     "execution_count": 30,
     "metadata": {},
     "output_type": "execute_result"
    }
   ],
   "source": [
    "model.distance(\"happy\",\"cheerful\")"
   ]
  },
  {
   "cell_type": "code",
   "execution_count": 31,
   "id": "6ed87ba7-851c-42bb-91a1-0033c6ebaa79",
   "metadata": {
    "ExecuteTime": {
     "end_time": "2025-03-20T12:42:46.348978Z",
     "start_time": "2025-03-20T12:42:46.344945Z"
    }
   },
   "outputs": [
    {
     "data": {
      "text/plain": [
       "True"
      ]
     },
     "execution_count": 31,
     "metadata": {},
     "output_type": "execute_result"
    }
   ],
   "source": [
    "model.distance(\"happy\", \"sad\") < model.distance(\"happy\",\"cheerful\")"
   ]
  },
  {
   "cell_type": "code",
   "execution_count": null,
   "id": "3f7cda1045c6f921",
   "metadata": {},
   "outputs": [],
   "source": [
    "# put your code here"
   ]
  },
  {
   "cell_type": "markdown",
   "id": "86210994-55e0-4ef1-99c8-9345e297cbc9",
   "metadata": {},
   "source": [
    "### Task 3: Word analogies\n",
    "\n",
    "We saw in the lecture that we can use basic arithmetic on word embeddings, in order to conduct word analogy task.\n",
    "\n",
    "For example:\n",
    "\n",
    "```man::king as woman::queen```\n",
    "\n",
    "So we can say that if we take the vector for ```king``` and subtract the vector for ```man```, we're removing the gender component from the ```king```. If we then add ```woman``` to the resulting vector, we should be left with a vector similar to ```queen```.\n",
    "\n",
    "NB: It might not be _exactly_ the vector for ```queen```, but it should at least be _close_ to it.\n",
    "\n",
    "```gensim``` has some quirky syntax that allows us to perform this kind of arithmetic."
   ]
  },
  {
   "cell_type": "code",
   "execution_count": 32,
   "id": "e97f38cc-a6a6-4d54-a0ef-97b90bef4140",
   "metadata": {
    "ExecuteTime": {
     "end_time": "2025-03-20T12:42:48.457746Z",
     "start_time": "2025-03-20T12:42:48.426311Z"
    },
    "execution": {
     "iopub.execute_input": "2022-10-13T11:37:01.747364Z",
     "iopub.status.busy": "2022-10-13T11:37:01.746670Z",
     "iopub.status.idle": "2022-10-13T11:37:01.859900Z",
     "shell.execute_reply": "2022-10-13T11:37:01.858453Z",
     "shell.execute_reply.started": "2022-10-13T11:37:01.747307Z"
    },
    "tags": []
   },
   "outputs": [
    {
     "data": {
      "text/plain": [
       "('queen', 0.7052316069602966)"
      ]
     },
     "execution_count": 32,
     "metadata": {},
     "output_type": "execute_result"
    }
   ],
   "source": [
    "model.most_similar(positive=['king', 'woman'], \n",
    "                   negative=['man'])[0]"
   ]
  },
  {
   "cell_type": "markdown",
   "id": "46a8a954-4feb-4b5e-894b-f530d9bf96de",
   "metadata": {},
   "source": [
    "Try to find at least three analogies which correctly hold - where \"correctly\" here means that the closest vector corresponds to the word that you as a native speaker think it should."
   ]
  },
  {
   "cell_type": "markdown",
   "id": "6632d94f-d2c1-4bfb-aaf8-92c2a26c2fab",
   "metadata": {},
   "source": [
    "### Task 3b: Wrong analogies\n",
    "\n",
    "Can you find any analogies which _should_ hold but don't? Why don't they work? Are there any similarities or trends?"
   ]
  },
  {
   "cell_type": "code",
   "execution_count": 33,
   "id": "9e8721d5-1b49-4f67-89dc-cdea12114722",
   "metadata": {
    "ExecuteTime": {
     "end_time": "2025-03-20T12:42:51.863501Z",
     "start_time": "2025-03-20T12:42:51.860408Z"
    }
   },
   "outputs": [],
   "source": [
    "# your code here"
   ]
  },
  {
   "cell_type": "markdown",
   "id": "378e672c-9140-49b6-91fa-f8d5364a91f6",
   "metadata": {},
   "source": [
    "### Task 4: Exploring bias"
   ]
  },
  {
   "cell_type": "markdown",
   "id": "217f907d-5ecb-4f8a-93b1-e4c19f67e3d0",
   "metadata": {},
   "source": [
    "As we spoke briefly about in the lecture, word embeddings tend to display bias of the kind found in the training data.\n",
    "\n",
    "Using some of the techniques you've worked on above, can you find some clear instances of bias in the word embedding models that you're exploring"
   ]
  },
  {
   "cell_type": "code",
   "execution_count": 34,
   "id": "22b2caac-f064-4ee8-8cc4-c81690da786a",
   "metadata": {
    "ExecuteTime": {
     "end_time": "2025-03-20T12:42:53.893671Z",
     "start_time": "2025-03-20T12:42:53.858487Z"
    },
    "execution": {
     "iopub.execute_input": "2022-10-13T11:38:45.594622Z",
     "iopub.status.busy": "2022-10-13T11:38:45.593924Z",
     "iopub.status.idle": "2022-10-13T11:38:45.707115Z",
     "shell.execute_reply": "2022-10-13T11:38:45.705573Z",
     "shell.execute_reply.started": "2022-10-13T11:38:45.594565Z"
    },
    "tags": []
   },
   "outputs": [
    {
     "data": {
      "text/plain": [
       "[('doctors', 0.6494733691215515),\n",
       " ('mother', 0.6095465421676636),\n",
       " ('dentist', 0.5888959169387817),\n",
       " ('birth', 0.5756080150604248),\n",
       " ('grandmother', 0.5664897561073303),\n",
       " ('midwife', 0.5661920309066772),\n",
       " ('nurse', 0.5581483840942383),\n",
       " ('child', 0.5519329905509949),\n",
       " ('daughter', 0.5452523827552795),\n",
       " ('father', 0.5416871905326843)]"
      ]
     },
     "execution_count": 34,
     "metadata": {},
     "output_type": "execute_result"
    }
   ],
   "source": [
    "model.most_similar(positive=['doctor', 'woman'], \n",
    "                   negative=['man'])"
   ]
  },
  {
   "cell_type": "markdown",
   "id": "85c9179c-307a-4c7b-b3a0-6e0316df4f83",
   "metadata": {},
   "source": [
    "### Task 5: Dimensionality reduction and visualizing"
   ]
  },
  {
   "cell_type": "markdown",
   "id": "1419a1e5-a8be-44df-9334-f03dc427122c",
   "metadata": {},
   "source": [
    "In the following cell, I've (not I Kasper, but Ross. Thanks, Ross!) written a short bit of code which takes a given subset of words and plots them on a simple scatter plot. Remember that the word embeddings are 300d (or 100d here, depending on which model you're using), so we need to perform some kind of dimensionality reduction on the embeddings to get them down to 2D.\n",
    "\n",
    "Here, I'm using a simply PCA algorithm implemented via ```scikit-learn```. An alternative approach might also be to use Singular Value Decomposition or SVD, which works in a similar but ever-so-slightly different way to PCA. You can read more [here](https://jeremykun.com/2016/04/18/singular-value-decomposition-part-1-perspectives-on-linear-algebra/) and [here](https://jonathan-hui.medium.com/machine-learning-singular-value-decomposition-svd-principal-component-analysis-pca-1d45e885e491) - the maths is bit mind-bending, just FYI.\n",
    "\n",
    "Experiment with plotting certain subsets of words by changing the ```words``` list. How useful do you find these plots? Do they show anything meaningful?\n"
   ]
  },
  {
   "cell_type": "code",
   "execution_count": 35,
   "id": "2555a971-2538-416b-b3c6-7c1732893d2b",
   "metadata": {
    "ExecuteTime": {
     "end_time": "2025-03-20T12:43:54.144198Z",
     "start_time": "2025-03-20T12:43:52.360411Z"
    },
    "execution": {
     "iopub.execute_input": "2022-10-13T12:10:20.405678Z",
     "iopub.status.busy": "2022-10-13T12:10:20.404976Z",
     "iopub.status.idle": "2022-10-13T12:10:20.570076Z",
     "shell.execute_reply": "2022-10-13T12:10:20.569514Z",
     "shell.execute_reply.started": "2022-10-13T12:10:20.405623Z"
    },
    "tags": []
   },
   "outputs": [
    {
     "data": {
      "image/png": "[encoded data removed]",
      "text/plain": [
       "<Figure size 640x480 with 1 Axes>"
      ]
     },
     "metadata": {},
     "output_type": "display_data"
    }
   ],
   "source": [
    "# the list of words we want to plot\n",
    "words = [\"man\", \"woman\", \"doctor\", \"nurse\", \"king\", \"queen\", \"boy\", \"girl\"]\n",
    "\n",
    "# an empty list for vectors\n",
    "X = []\n",
    "# get vectors for subset of words\n",
    "for word in words:\n",
    "    X.append(model[word])\n",
    "\n",
    "# Use PCA for dimensionality reduction to 2D\n",
    "pca = PCA(n_components=2)\n",
    "result = pca.fit_transform(X)\n",
    "\n",
    "# or try SVD - how are they different?\n",
    "#svd = TruncatedSVD(n_components=2)\n",
    "# fit_transform the initialized PCA model\n",
    "#result = svd.fit_transform(X)\n",
    "\n",
    "# create a scatter plot of the projection\n",
    "plt.scatter(result[:, 0], result[:, 1])\n",
    "\n",
    "# for each word in the list of words\n",
    "for i, word in enumerate(words):\n",
    "    plt.annotate(word, xy=(result[i, 0], result[i, 1]))\n",
    "\n",
    "plt.show()"
   ]
  },
  {
   "cell_type": "markdown",
   "id": "9831a495",
   "metadata": {},
   "source": [
    "### Bonus tasks\n",
    "\n",
    "If you run out of things to explore with these embeddings, try some of the following tasks:\n",
    "\n",
    "[Easier]\n",
    "- Write a ```.py``` script which takes the visualization code above which can be run from the command line directly\n",
    "\n",
    "[Medium]\n",
    "- Using what you (might) know about ```matplotlib``` make new plots like those above but cleaner and more informative\n",
    "\n",
    "[Harder]\n",
    "- Word embeddings are numerical vectors for individual tokens. Can you think about how you would create a document-level embedding for, say, a full sentence?\n",
    "    - Try to implement a crude method of creating a sentence embedding from word embeddings in that sentence.\n"
   ]
  },
  {
   "cell_type": "code",
   "execution_count": null,
   "id": "25d8a60d9c118db6",
   "metadata": {},
   "outputs": [],
   "source": []
  }
 ],
 "metadata": {
  "kernelspec": {
   "display_name": "Python 3",
   "language": "python",
   "name": "python3"
  },
  "language_info": {
   "codemirror_mode": {
    "name": "ipython",
    "version": 3
   },
   "file_extension": ".py",
   "mimetype": "text/x-python",
   "name": "python",
   "nbconvert_exporter": "python",
   "pygments_lexer": "ipython3",
   "version": "3.12.3"
  }
 },
 "nbformat": 4,
 "nbformat_minor": 5
}
